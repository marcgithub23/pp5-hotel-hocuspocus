{
  "cells": [
    {
      "cell_type": "markdown",
      "metadata": {
        "id": "0aStgWSO0E0E"
      },
      "source": [
        "# **Data analysis on cancellation notebook**"
      ]
    },
    {
      "cell_type": "markdown",
      "metadata": {
        "id": "1eLEkw5O0ECa"
      },
      "source": [
        "## Objectives\n",
        "\n",
        "* Answer business requirement, which is to answer the following questions from stakeholders:\n",
        "    - Which months have the highest number of cancellations?\n",
        "    - What are the top 5 countries with the highest number of cancellations?\n",
        "    - Which booking channels have the highest number of cancellations?\n",
        "    - Are bookings with weekend nights stay more likely to be cancelled than those with none?\n",
        "\n",
        "## Inputs\n",
        "\n",
        "* outputs/datasets/collections/hotel_bookings.csv\n",
        "\n",
        "## Outputs\n",
        "\n",
        "* Generate code to answer the above business requirement and use it to build the Streamlit app\n"
      ]
    },
    {
      "cell_type": "markdown",
      "metadata": {
        "id": "9uWZXH9LwoQg"
      },
      "source": [
        "---"
      ]
    },
    {
      "cell_type": "markdown",
      "metadata": {
        "id": "cqP-UeN-z3i2"
      },
      "source": [
        "# Change working directory"
      ]
    },
    {
      "cell_type": "markdown",
      "metadata": {
        "id": "aOGIGS-uz3i2"
      },
      "source": [
        "We need to change the working directory from its current folder to its parent folder\n",
        "* We access the current directory with os.getcwd()"
      ]
    },
    {
      "cell_type": "code",
      "execution_count": null,
      "metadata": {
        "id": "wZfF_j-Bz3i4",
        "outputId": "66943449-1436-4c3d-85c7-b85f9f78349b"
      },
      "outputs": [],
      "source": [
        "import os\n",
        "current_dir = os.getcwd()\n",
        "current_dir"
      ]
    },
    {
      "cell_type": "markdown",
      "metadata": {
        "id": "9MWW8E7lz3i7"
      },
      "source": [
        "We want to make the parent of the current directory the new current directory\n",
        "* os.path.dirname() gets the parent directory\n",
        "* os.chir() defines the new current directory"
      ]
    },
    {
      "cell_type": "code",
      "execution_count": null,
      "metadata": {
        "id": "TwHsQRWjz3i9",
        "outputId": "86849db3-cd2f-4cc5-ebb8-2d0caafa1a2c"
      },
      "outputs": [],
      "source": [
        "os.chdir(os.path.dirname(current_dir))\n",
        "print(\"You set a new current directory\")"
      ]
    },
    {
      "cell_type": "markdown",
      "metadata": {
        "id": "M_xPk_Ijz3i-"
      },
      "source": [
        "Confirm the new current directory"
      ]
    },
    {
      "cell_type": "code",
      "execution_count": null,
      "metadata": {
        "id": "vz3S-_kjz3jA",
        "outputId": "00b79ae4-75d0-4a96-d193-ac9ef9847ea2"
      },
      "outputs": [],
      "source": [
        "current_dir = os.getcwd()\n",
        "current_dir"
      ]
    },
    {
      "cell_type": "markdown",
      "metadata": {},
      "source": [
        "---"
      ]
    },
    {
      "cell_type": "markdown",
      "metadata": {
        "id": "-mavJ8DibrcQ"
      },
      "source": [
        "# Load data"
      ]
    },
    {
      "cell_type": "code",
      "execution_count": null,
      "metadata": {},
      "outputs": [],
      "source": [
        "import pandas as pd\n",
        "\n",
        "df = pd.read_csv(\"outputs/datasets/collection/hotel_bookings.csv\")\n",
        "df.head()"
      ]
    },
    {
      "cell_type": "markdown",
      "metadata": {
        "id": "ZY3l0-AxO93d"
      },
      "source": [
        "---"
      ]
    },
    {
      "cell_type": "markdown",
      "metadata": {
        "id": "uFQo3ycuO-v6"
      },
      "source": [
        "# Data exploration"
      ]
    },
    {
      "cell_type": "markdown",
      "metadata": {},
      "source": [
        "Get familiar with the dataset, check variable type and distribution, missing levels, and what these variables mean in a business context."
      ]
    },
    {
      "cell_type": "code",
      "execution_count": null,
      "metadata": {},
      "outputs": [],
      "source": [
        "from ydata_profiling import ProfileReport\n",
        "\n",
        "pandas_report = ProfileReport(df=df, minimal=True)\n",
        "pandas_report.to_notebook_iframe()"
      ]
    },
    {
      "cell_type": "markdown",
      "metadata": {},
      "source": [
        "# Conventional data analysis"
      ]
    },
    {
      "cell_type": "markdown",
      "metadata": {},
      "source": [
        "Based on the above business requirement, the following variables will be studied to answer the questions from stakeholders:\n",
        "- `arrival_date_month`\n",
        "- `country`\n",
        "- `distribution_channel`\n",
        "- `stays_in_weekend_nights`"
      ]
    },
    {
      "cell_type": "code",
      "execution_count": null,
      "metadata": {},
      "outputs": [],
      "source": [
        "vars_to_study = ['arrival_date_month', 'country', 'distribution_channel', 'stays_in_weekend_nights']\n",
        "vars_to_study"
      ]
    },
    {
      "cell_type": "code",
      "execution_count": null,
      "metadata": {},
      "outputs": [],
      "source": [
        "df_eda = df.filter(vars_to_study + ['is_canceled'])\n",
        "df_eda.head(3)"
      ]
    },
    {
      "cell_type": "markdown",
      "metadata": {},
      "source": [
        "## Arrival date month"
      ]
    },
    {
      "cell_type": "markdown",
      "metadata": {},
      "source": [
        "The following question will be investigated:\n",
        "- Which months have the highest number of cancellations?"
      ]
    },
    {
      "cell_type": "code",
      "execution_count": null,
      "metadata": {},
      "outputs": [],
      "source": [
        "import matplotlib.pyplot as plt\n",
        "import seaborn as sns\n",
        "sns.set_style('whitegrid')\n",
        "\n",
        "# Calculate total number of cancellations for each month\n",
        "cancellations = df_eda[df_eda['is_canceled'] == 1].groupby(\n",
        "    'arrival_date_month'\n",
        ").size()\n",
        "\n",
        "# Sort months by number of cancellations in descending order\n",
        "sorted_months = cancellations.sort_values(ascending=False).index.tolist()\n",
        "\n",
        "# Countplot\n",
        "plt.figure(figsize=(12, 6))\n",
        "sns.countplot(\n",
        "    data=df_eda,\n",
        "    x='arrival_date_month',\n",
        "    hue='is_canceled',\n",
        "    order=sorted_months\n",
        ")\n",
        "plt.xticks(rotation=90)\n",
        "plt.title('Number of Cancellations per Month')\n",
        "plt.xlabel('arrival_date_month')\n",
        "plt.ylabel('count')\n",
        "plt.show()"
      ]
    },
    {
      "cell_type": "markdown",
      "metadata": {},
      "source": [
        "### Conclusion\n",
        "August and July are the top 2 months with the highest number of cancellations. This is during the summer season."
      ]
    },
    {
      "cell_type": "markdown",
      "metadata": {},
      "source": [
        "## Country"
      ]
    },
    {
      "cell_type": "markdown",
      "metadata": {},
      "source": [
        "The following question will be investigated:\n",
        "- What are the top 5 countries with the highest number of cancellations?"
      ]
    },
    {
      "cell_type": "code",
      "execution_count": null,
      "metadata": {},
      "outputs": [],
      "source": [
        "# Calculate total number of cancellations for each country\n",
        "cancellations_by_country = df_eda[df_eda['is_canceled'] == 1].groupby(\n",
        "    'country'\n",
        ").size()\n",
        "\n",
        "# Get the top 5 countries with the highest number of cancellations\n",
        "top_5_countries = cancellations_by_country.nlargest(5).index.tolist()\n",
        "\n",
        "# Filter the top 5 countries\n",
        "df_top_5 = df_eda[df_eda['country'].isin(top_5_countries)]\n",
        "\n",
        "# Countplot\n",
        "plt.figure(figsize=(12, 6))\n",
        "sns.countplot(\n",
        "    data=df_top_5,\n",
        "    x='country',\n",
        "    hue='is_canceled',\n",
        "    order=top_5_countries\n",
        ")\n",
        "plt.title('Top 5 Countries with the Highest Number of Cancellations')\n",
        "plt.xlabel('country')\n",
        "plt.ylabel('count')\n",
        "plt.xticks(rotation=90)\n",
        "plt.show()"
      ]
    },
    {
      "cell_type": "markdown",
      "metadata": {},
      "source": [
        "### Conclusion\n",
        "The top 5 countries with the highest number of cancellations are:\n",
        "- Portugal\n",
        "- The UK\n",
        "- France\n",
        "- Spain\n",
        "- Italy"
      ]
    },
    {
      "cell_type": "markdown",
      "metadata": {},
      "source": [
        "## Distribution channels"
      ]
    },
    {
      "cell_type": "markdown",
      "metadata": {},
      "source": [
        "The following question will be investigated:\n",
        "- Which booking channels have the highest number of cancellations?"
      ]
    },
    {
      "cell_type": "code",
      "execution_count": null,
      "metadata": {},
      "outputs": [],
      "source": [
        "# Calculate total number of cancellations for each distribution channel\n",
        "cancellations_by_channel = df_eda[df_eda['is_canceled'] == 1].groupby(\n",
        "    'distribution_channel'\n",
        ").size()\n",
        "\n",
        "# Sort distribution channels by number of cancellations in descending order\n",
        "sorted_channels = cancellations_by_channel.sort_values(\n",
        "    ascending=False\n",
        ").index.tolist()\n",
        "\n",
        "# Countplot\n",
        "plt.figure(figsize=(12, 6))\n",
        "sns.countplot(\n",
        "    data=df_eda,\n",
        "    x='distribution_channel',\n",
        "    hue='is_canceled',\n",
        "    order=sorted_channels\n",
        ")\n",
        "plt.title('Number of Cancellations by Distribution Channel')\n",
        "plt.xlabel('distribution_channel')\n",
        "plt.ylabel('count')\n",
        "plt.xticks(rotation=90)\n",
        "plt.show()"
      ]
    },
    {
      "cell_type": "markdown",
      "metadata": {},
      "source": [
        "### Conclusion\n",
        "There are more cancellations of bookings made through TA's (Travel Agencies) or TO's (Tour Operators) as opposed to bookings made directly with the hotel."
      ]
    },
    {
      "cell_type": "markdown",
      "metadata": {},
      "source": [
        "## Weekend nights stay"
      ]
    },
    {
      "cell_type": "markdown",
      "metadata": {},
      "source": [
        "The following question will be investigated:\n",
        "- Are bookings with weekend nights stay more likely to be cancelled than those with none?"
      ]
    },
    {
      "cell_type": "code",
      "execution_count": null,
      "metadata": {},
      "outputs": [],
      "source": [
        "# Histplot\n",
        "plt.figure(figsize=(12, 6))\n",
        "sns.histplot(\n",
        "    data=df_eda,\n",
        "    x='stays_in_weekend_nights',\n",
        "    hue='is_canceled',\n",
        "    kde=True,\n",
        "    element='step'\n",
        ")\n",
        "plt.title('Distribution of Stays in Weekend Nights')\n",
        "plt.xlim(0, 8)\n",
        "plt.xlabel('stays_in_weekend_nights')\n",
        "plt.ylabel('count')\n",
        "plt.show()"
      ]
    },
    {
      "cell_type": "markdown",
      "metadata": {},
      "source": [
        "### Conclusion\n",
        "Bookings without any weekend nights stay are cancelled more than bookings with weekend nights stay."
      ]
    },
    {
      "cell_type": "markdown",
      "metadata": {},
      "source": [
        "---"
      ]
    },
    {
      "cell_type": "markdown",
      "metadata": {},
      "source": [
        "# Summary of conclusions"
      ]
    },
    {
      "cell_type": "markdown",
      "metadata": {},
      "source": [
        "- The following variables were studied to answer questions from stakeholders as per business requirement:\n",
        "    - `arrival_date_month`\n",
        "    - `country`\n",
        "    - `distribution_channel`\n",
        "    - `stays_in_weekend_nights`\n",
        "- Conventional data analysis provided the following answers:\n",
        "    - August and July are the top 2 months with the highest number of cancellations. This is during the summer season.\n",
        "    - The top 5 countries with the highest number of cancellations are:\n",
        "        - Portugal\n",
        "        - The UK\n",
        "        - France\n",
        "        - Spain\n",
        "        - Italy\n",
        "    - There are more cancellations of bookings made through TA's (Travel Agencies) or TO's (Tour Operators) as opposed to bookings made directly with the hotel.\n",
        "    - Bookings without any weekend nights stay are cancelled more than bookings with weekend nights stay."
      ]
    },
    {
      "cell_type": "markdown",
      "metadata": {},
      "source": [
        "---"
      ]
    },
    {
      "cell_type": "markdown",
      "metadata": {
        "id": "ltNetd085qHf"
      },
      "source": [
        "# Next steps"
      ]
    },
    {
      "cell_type": "markdown",
      "metadata": {},
      "source": [
        "Data cleaning will be conducted in preparation for modelling."
      ]
    }
  ],
  "metadata": {
    "accelerator": "GPU",
    "colab": {
      "name": "Data Practitioner Jupyter Notebook.ipynb",
      "provenance": [],
      "toc_visible": true
    },
    "interpreter": {
      "hash": "8b8334dab9339717f727a1deaf837b322d7a41c20d15cc86be99a8e69ceec8ce"
    },
    "kernelspec": {
      "display_name": "Python 3.8.12 64-bit ('3.8.12': pyenv)",
      "name": "python3"
    },
    "language_info": {
      "codemirror_mode": {
        "name": "ipython",
        "version": 3
      },
      "file_extension": ".py",
      "mimetype": "text/x-python",
      "name": "python",
      "nbconvert_exporter": "python",
      "pygments_lexer": "ipython3",
      "version": "3.8.18"
    },
    "orig_nbformat": 2
  },
  "nbformat": 4,
  "nbformat_minor": 2
}
