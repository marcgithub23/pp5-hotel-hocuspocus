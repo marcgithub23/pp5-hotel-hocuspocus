{
  "cells": [
    {
      "cell_type": "markdown",
      "metadata": {
        "id": "0aStgWSO0E0E"
      },
      "source": [
        "# **Data collection notebook**"
      ]
    },
    {
      "cell_type": "markdown",
      "metadata": {
        "id": "1eLEkw5O0ECa"
      },
      "source": [
        "## Objectives\n",
        "\n",
        "* Fetch data from Kaggle and save it as raw data\n",
        "* Inspect the data and save it under outputs/datasets/collection\n",
        "\n",
        "## Inputs\n",
        "\n",
        "* Kaggle JSON file - the authentication token\n",
        "\n",
        "## Outputs\n",
        "\n",
        "* Generate dataset: outputs/dataset/collection/hotel_bookings.csv\n"
      ]
    },
    {
      "cell_type": "markdown",
      "metadata": {
        "id": "9uWZXH9LwoQg"
      },
      "source": [
        "---"
      ]
    },
    {
      "cell_type": "markdown",
      "metadata": {
        "id": "cqP-UeN-z3i2"
      },
      "source": [
        "# Change working directory"
      ]
    },
    {
      "cell_type": "markdown",
      "metadata": {
        "id": "aOGIGS-uz3i2"
      },
      "source": [
        "We need to change the working directory from its current folder to its parent folder\n",
        "* We access the current directory with os.getcwd()"
      ]
    },
    {
      "cell_type": "code",
      "execution_count": null,
      "metadata": {
        "id": "wZfF_j-Bz3i4",
        "outputId": "66943449-1436-4c3d-85c7-b85f9f78349b"
      },
      "outputs": [],
      "source": [
        "import os\n",
        "current_dir = os.getcwd()\n",
        "current_dir"
      ]
    },
    {
      "cell_type": "markdown",
      "metadata": {
        "id": "9MWW8E7lz3i7"
      },
      "source": [
        "We want to make the parent of the current directory the new current directory\n",
        "* os.path.dirname() gets the parent directory\n",
        "* os.chir() defines the new current directory"
      ]
    },
    {
      "cell_type": "code",
      "execution_count": null,
      "metadata": {
        "id": "TwHsQRWjz3i9",
        "outputId": "86849db3-cd2f-4cc5-ebb8-2d0caafa1a2c"
      },
      "outputs": [],
      "source": [
        "os.chdir(os.path.dirname(current_dir))\n",
        "print(\"You set a new current directory\")"
      ]
    },
    {
      "cell_type": "markdown",
      "metadata": {
        "id": "M_xPk_Ijz3i-"
      },
      "source": [
        "Confirm the new current directory"
      ]
    },
    {
      "cell_type": "code",
      "execution_count": null,
      "metadata": {
        "id": "vz3S-_kjz3jA",
        "outputId": "00b79ae4-75d0-4a96-d193-ac9ef9847ea2"
      },
      "outputs": [],
      "source": [
        "current_dir = os.getcwd()\n",
        "current_dir"
      ]
    },
    {
      "cell_type": "markdown",
      "metadata": {
        "id": "-mavJ8DibrcQ"
      },
      "source": [
        "# Fetch data from Kaggle"
      ]
    },
    {
      "cell_type": "markdown",
      "metadata": {},
      "source": [
        "Install Kaggle package to fetch data"
      ]
    },
    {
      "cell_type": "code",
      "execution_count": null,
      "metadata": {},
      "outputs": [],
      "source": [
        "%pip install kaggle==1.5.12"
      ]
    },
    {
      "cell_type": "markdown",
      "metadata": {},
      "source": [
        "Run the cell below so that the token is recognised in the session"
      ]
    },
    {
      "cell_type": "code",
      "execution_count": null,
      "metadata": {},
      "outputs": [],
      "source": [
        "import os\n",
        "os.environ['KAGGLE_CONFIG_DIR'] = os.getcwd()\n",
        "! chmod 600 kaggle.json"
      ]
    },
    {
      "cell_type": "markdown",
      "metadata": {},
      "source": [
        "We are using the following dataset from Kaggle: [Kaggle URL](https://www.kaggle.com/datasets/jessemostipak/hotel-booking-demand)\n",
        "\n",
        "Get the dataset path from the Kaggle URL\n",
        "    * When you are viewing the dataset from Kaggle, check what is after https://www.kaggle.com/\n",
        "\n",
        "Define the Kaggle dataset and destination folder and download it"
      ]
    },
    {
      "cell_type": "code",
      "execution_count": null,
      "metadata": {},
      "outputs": [],
      "source": [
        "KaggleDatasetPath = \"jessemostipak/hotel-booking-demand\"\n",
        "DestinationFolder = \"inputs/datasets/raw\"   \n",
        "! kaggle datasets download -d {KaggleDatasetPath} -p {DestinationFolder}"
      ]
    },
    {
      "cell_type": "markdown",
      "metadata": {},
      "source": [
        "Unzip the downloaded file, delete the zip file, and delete the kaggle.json file"
      ]
    },
    {
      "cell_type": "code",
      "execution_count": null,
      "metadata": {},
      "outputs": [],
      "source": [
        "! unzip {DestinationFolder}/*.zip -d {DestinationFolder} \\\n",
        "    && rm {DestinationFolder}/*.zip \\\n",
        "    && rm kaggle.json"
      ]
    },
    {
      "cell_type": "markdown",
      "metadata": {
        "id": "ZY3l0-AxO93d"
      },
      "source": [
        "---"
      ]
    },
    {
      "cell_type": "markdown",
      "metadata": {
        "id": "uFQo3ycuO-v6"
      },
      "source": [
        "# Load and inspect Kaggle data"
      ]
    },
    {
      "cell_type": "markdown",
      "metadata": {},
      "source": [
        "## Dataframe description and summary"
      ]
    },
    {
      "cell_type": "code",
      "execution_count": null,
      "metadata": {},
      "outputs": [],
      "source": [
        "import pandas as pd\n",
        "\n",
        "df = pd.read_csv(f\"inputs/datasets/raw/hotel_bookings.csv\")\n",
        "df.head()"
      ]
    },
    {
      "cell_type": "code",
      "execution_count": null,
      "metadata": {},
      "outputs": [],
      "source": [
        "df.info()"
      ]
    },
    {
      "cell_type": "code",
      "execution_count": null,
      "metadata": {},
      "outputs": [],
      "source": [
        "df.isnull().sum()"
      ]
    },
    {
      "cell_type": "markdown",
      "metadata": {},
      "source": [
        "### Dataset description:\n",
        "| __Index__ | __Variable__ | __Description__ |\n",
        "|   :---    |     :---     |       :---      |\n",
        "| 0 | __hotel__ | Type of hotel (Resort Hotel, City Hotel) |\n",
        "| 1 | __is_canceled__ | Reservation cancellation status (0 = not canceled, 1 = canceled) |\n",
        "| 2 | __lead_time__ | Number of days between booking and arrival |\n",
        "| 3 | __arrival_date_year__ | Year of arrival |\n",
        "| 4 | __arrival_date_month__ | Month of arrival |\n",
        "| 5 | __arrival_date_week_number__ | Week number of the year for arrival |\n",
        "| 6 | __arrival_date_day_of_month__ | Day of the month of arrival |\n",
        "| 7 | __stays_in_weekend_nights__ | Number of weekend nights (Saturday and Sunday) the guest stayed or booked |\n",
        "| 8 | __stays_in_week_nights__ | Number of week nights (Monday to Friday) the guest stayed or booked |\n",
        "| 9 | __adults__ | Number of adults |\n",
        "| 10 | __children__ | Number of children |\n",
        "| 11 | __babies__ | Number of babies |\n",
        "| 12 | __meal__ | Type of meal booked (BB (Bed & Breakfast), FB (Full-Board), HB (Half-Board), SC/Undefined (No Meal)) |\n",
        "| 13 | __country__ | Country of origin of the guest |\n",
        "| 14 | __market_segment__ | Market segment designation |\n",
        "| 15 | __distribution_channel__ | Booking distribution channel |\n",
        "| 16 | __is_repeated_guest__ | If the guest is a repeat customer (0 = not repeated, 1 = repeated) |\n",
        "| 17 | __previous_cancellations__ | Number of previous bookings that were canceled by the customer |\n",
        "| 18 | __previous_bookings_not_canceled__ | Number of previous bookings that were not canceled by the customer |\n",
        "| 19 | __reserved_room_type__ | Type of reserved room |\n",
        "| 20 | __assigned_room_type__ | Type of assigned room |\n",
        "| 21 | __booking_changes__ | Number of changes made to the booking |\n",
        "| 22 | __deposit_type__ | Type of deposit made (No Deposit, Refundable, Non Refund) |\n",
        "| 23 | __agent__ | ID of the travel agent responsible for the booking |\n",
        "| 24 | __company__ | ID of the company responsible for the booking |\n",
        "| 25 | __days_in_waiting_list__ | Number of days the booking was in the waiting list |\n",
        "| 26 | __customer_type__ | Type of customer (Transient, Contract, Transient-Party, Group) |\n",
        "| 27 | __adr__ | Average Daily Rate |\n",
        "| 28 | __required_car_parking_spaces__ | Number of car parking spaces required |\n",
        "| 29 | __total_of_special_requests__ | Number of special requests made |\n",
        "| 30 | __reservation_status__ | Last reservation status (Check-Out, Canceled, No-Show) |\n",
        "| 31 | __reservation_status_date__ | Date of the last reservation status |"
      ]
    },
    {
      "cell_type": "markdown",
      "metadata": {},
      "source": [
        "### Dataset summary:\n",
        "- **Number of entries/rows:** 119,390\n",
        "- **Number of columns:** 32\n",
        "- **Data types:** float64 (4 columns), int64 (16 columns), object (12 columns)\n",
        "- **Missing values:**\n",
        "    - **children:** 4 missing values\n",
        "    - **country:** 488 missing values\n",
        "    - **agent:** 16,340 missing values\n",
        "    - **company:** 112,593 missing values"
      ]
    },
    {
      "cell_type": "markdown",
      "metadata": {},
      "source": [
        "---"
      ]
    },
    {
      "cell_type": "markdown",
      "metadata": {
        "id": "ltNetd085qHf"
      },
      "source": [
        "# Push files to Repo"
      ]
    },
    {
      "cell_type": "code",
      "execution_count": null,
      "metadata": {},
      "outputs": [],
      "source": [
        "import os\n",
        "\n",
        "try:\n",
        "    # Create folder\n",
        "    os.makedirs(name=\"outputs/datasets/collection\")\n",
        "except Exception as e:\n",
        "    print(e)\n",
        "\n",
        "df.to_csv(f\"outputs/datasets/collection/hotel_bookings.csv\", index=False)"
      ]
    }
  ],
  "metadata": {
    "accelerator": "GPU",
    "colab": {
      "name": "Data Practitioner Jupyter Notebook.ipynb",
      "provenance": [],
      "toc_visible": true
    },
    "interpreter": {
      "hash": "8b8334dab9339717f727a1deaf837b322d7a41c20d15cc86be99a8e69ceec8ce"
    },
    "kernelspec": {
      "display_name": "Python 3.8.12 64-bit ('3.8.12': pyenv)",
      "name": "python3"
    },
    "language_info": {
      "codemirror_mode": {
        "name": "ipython",
        "version": 3
      },
      "file_extension": ".py",
      "mimetype": "text/x-python",
      "name": "python",
      "nbconvert_exporter": "python",
      "pygments_lexer": "ipython3",
      "version": "3.8.18"
    },
    "orig_nbformat": 2
  },
  "nbformat": 4,
  "nbformat_minor": 2
}
